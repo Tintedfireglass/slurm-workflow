{
  "nbformat": 4,
  "nbformat_minor": 0,
  "metadata": {
    "colab": {
      "provenance": []
    },
    "kernelspec": {
      "name": "python3",
      "display_name": "Python 3"
    },
    "language_info": {
      "name": "python"
    }
  },
  "cells": [
    {
      "cell_type": "code",
      "execution_count": null,
      "metadata": {
        "id": "QnQTKg-FkTec"
      },
      "outputs": [],
      "source": [
        "!sudo apt-get update\n",
        "!git clone https://github.com/d1by/slurm-workflow"
      ]
    },
    {
      "cell_type": "code",
      "source": [
        "!cd slurm-workflow"
      ],
      "metadata": {
        "id": "LQWnVJH5kYVZ"
      },
      "execution_count": null,
      "outputs": []
    },
    {
      "cell_type": "code",
      "source": [
        "!pip install -r requirements.txt"
      ],
      "metadata": {
        "id": "eKSH6DAmkboR"
      },
      "execution_count": null,
      "outputs": []
    },
    {
      "cell_type": "code",
      "source": [
        "!sudo apt install jupyter-notebook"
      ],
      "metadata": {
        "id": "JRWiqO7WkekP"
      },
      "execution_count": null,
      "outputs": []
    },
    {
      "cell_type": "code",
      "source": [
        "!wget -qO - https://www.mongodb.org/static/pgp/server-6.0.asc |  gpg --dearmor | sudo tee /usr/share/keyrings/mongodb.gpg > /dev/null"
      ],
      "metadata": {
        "id": "0pHG7iO-knW0"
      },
      "execution_count": null,
      "outputs": []
    },
    {
      "cell_type": "code",
      "source": [
        "!echo \"deb [ arch=amd64,arm64 signed-by=/usr/share/keyrings/mongodb.gpg ] https://repo.mongodb.org/apt/ubuntu jammy/mongodb-org/6.0 multiverse\" | sudo tee /etc/apt/sources.list.d/mongodb-org-6.0.list"
      ],
      "metadata": {
        "id": "bwl0JeaokqYJ"
      },
      "execution_count": null,
      "outputs": []
    },
    {
      "cell_type": "code",
      "source": [
        "!sudo apt update\n",
        "!sudo apt install mongodb-org"
      ],
      "metadata": {
        "id": "XI0Jil42ks05"
      },
      "execution_count": null,
      "outputs": []
    },
    {
      "cell_type": "code",
      "source": [
        "!sudo service mongod start"
      ],
      "metadata": {
        "id": "axjWntYtkybf"
      },
      "execution_count": null,
      "outputs": []
    },
    {
      "cell_type": "code",
      "source": [
        "!service mongod status\n"
      ],
      "metadata": {
        "id": "Lj03hKyhk103"
      },
      "execution_count": null,
      "outputs": []
    },
    {
      "cell_type": "code",
      "source": [
        "#only run if Mongo fails to run \n",
        "!sudo rm -rf /tmp/mongodb-27017.sock\n",
        "!sudo service mongod start\n"
      ],
      "metadata": {
        "id": "Y3paBNFck4Nw"
      },
      "execution_count": 1,
      "outputs": []
    },
    {
      "cell_type": "code",
      "source": [
        "!sh SLURM_Ubuntu_installation.sh"
      ],
      "metadata": {
        "id": "7TRi94UIk87E"
      },
      "execution_count": null,
      "outputs": []
    },
    {
      "cell_type": "code",
      "source": [
        "!sudo slurmctld"
      ],
      "metadata": {
        "id": "U9dhYJd1lH_0"
      },
      "execution_count": null,
      "outputs": []
    },
    {
      "cell_type": "code",
      "source": [
        "!scontrol ping"
      ],
      "metadata": {
        "id": "T8ai_axalLOy"
      },
      "execution_count": null,
      "outputs": []
    },
    {
      "cell_type": "code",
      "source": [
        "!sbatch slurm_mongo.sh"
      ],
      "metadata": {
        "id": "M44n50EglNhF"
      },
      "execution_count": null,
      "outputs": []
    },
    {
      "cell_type": "code",
      "source": [
        "!sbatch slurm_mongoreader.sh"
      ],
      "metadata": {
        "id": "_MEGJWAAlV69"
      },
      "execution_count": null,
      "outputs": []
    },
    {
      "cell_type": "code",
      "source": [
        "!sbatch slurm_trainalgo.sh"
      ],
      "metadata": {
        "id": "DTlJrUWnlXEu"
      },
      "execution_count": null,
      "outputs": []
    },
    {
      "cell_type": "code",
      "source": [
        "!sbatch slurm_testalgo.sh"
      ],
      "metadata": {
        "id": "3KGLuYtolYNN"
      },
      "execution_count": null,
      "outputs": []
    }
  ]
}